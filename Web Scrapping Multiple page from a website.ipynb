{
 "cells": [
  {
   "cell_type": "code",
   "execution_count": 1,
   "id": "c90e6468",
   "metadata": {},
   "outputs": [],
   "source": [
    "import requests\n",
    "from bs4 import BeautifulSoup\n",
    "import pandas as pd"
   ]
  },
  {
   "cell_type": "code",
   "execution_count": 2,
   "id": "c23ac08b",
   "metadata": {},
   "outputs": [],
   "source": [
    "books=[]\n",
    "for i in range(1,5):\n",
    "    url= f\"https://books.toscrape.com/catalogue/page-{i}.html\"\n",
    "    response=requests.get(url)\n",
    "    response=response.content\n",
    "    # use beautifulsoup to parserthe document into html page\n",
    "    soup=BeautifulSoup(response, 'html.parser')\n",
    "    #finding ol on the order list in the website\n",
    "    ol=soup.find('ol')\n",
    "    articles=ol.find_all('article', class_='product_pod')\n",
    "    \n",
    "    for article in articles:\n",
    "        image=article.find('img') #find all the images with img taq\n",
    "        title=image.attrs['alt'] # find alt attributes of that image to find the title of the book\n",
    "        star=article.find('p') #find article p \n",
    "        star=star['class'][1] # find class and give the index 1\n",
    "        price=article.find('p',class_='price_color').text\n",
    "        price=float(price[1:]) #remove pounds symbol and change into float \n",
    "        books.append([title,price,star])\n",
    "\n"
   ]
  },
  {
   "cell_type": "code",
   "execution_count": 4,
   "id": "10d0a70b",
   "metadata": {},
   "outputs": [],
   "source": [
    "#Save the books data into dataframe\n",
    "df=pd.DataFrame(books,columns=['Title', 'Price', 'Star Rating'])"
   ]
  },
  {
   "cell_type": "code",
   "execution_count": 5,
   "id": "023dd3bb",
   "metadata": {},
   "outputs": [],
   "source": [
    "#save dataframe into csv file\n",
    "df.to_csv('books.csv')"
   ]
  }
 ],
 "metadata": {
  "kernelspec": {
   "display_name": "Python 3 (ipykernel)",
   "language": "python",
   "name": "python3"
  },
  "language_info": {
   "codemirror_mode": {
    "name": "ipython",
    "version": 3
   },
   "file_extension": ".py",
   "mimetype": "text/x-python",
   "name": "python",
   "nbconvert_exporter": "python",
   "pygments_lexer": "ipython3",
   "version": "3.11.4"
  }
 },
 "nbformat": 4,
 "nbformat_minor": 5
}
